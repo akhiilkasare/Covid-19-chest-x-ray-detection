{
  "nbformat": 4,
  "nbformat_minor": 0,
  "metadata": {
    "colab": {
      "name": "Covid Chest X-Rays using Deep Learning.ipynb",
      "provenance": [],
      "collapsed_sections": [],
      "mount_file_id": "1_ui_bHvR6AflH4QgCkTM6hpGQkYx_UW2",
      "authorship_tag": "ABX9TyOL3pMLWmWmvZO/huPxFGR+",
      "include_colab_link": true
    },
    "kernelspec": {
      "name": "python3",
      "display_name": "Python 3"
    },
    "accelerator": "GPU"
  },
  "cells": [
    {
      "cell_type": "markdown",
      "metadata": {
        "id": "view-in-github",
        "colab_type": "text"
      },
      "source": [
        "<a href=\"https://colab.research.google.com/github/akhiilkasare/Covid-19-chest-x-ray-detection/blob/master/Covid_Chest_X_Rays_using_Deep_Learning.ipynb\" target=\"_parent\"><img src=\"https://colab.research.google.com/assets/colab-badge.svg\" alt=\"Open In Colab\"/></a>"
      ]
    },
    {
      "cell_type": "code",
      "metadata": {
        "id": "FLAAI6nTCWf1",
        "colab_type": "code",
        "colab": {}
      },
      "source": [
        "from tensorflow.keras.layers import Dense, Flatten, Input, Lambda\n",
        "from tensorflow.keras.models import Model\n",
        "from tensorflow.keras.applications.vgg16 import VGG16\n",
        "from tensorflow.keras.applications.resnet50 import ResNet50\n",
        "from tensorflow.keras.preprocessing import image\n",
        "from tensorflow.keras.preprocessing.image import ImageDataGenerator, load_img\n",
        "from keras.models import Sequential\n",
        "from glob import glob\n",
        "import matplotlib.pyplot as plt\n",
        "import numpy as np"
      ],
      "execution_count": null,
      "outputs": []
    },
    {
      "cell_type": "markdown",
      "metadata": {
        "id": "nSgN-lt9D3uH",
        "colab_type": "text"
      },
      "source": [
        "### Declaring the image size and the train, test pat of the dataset"
      ]
    },
    {
      "cell_type": "code",
      "metadata": {
        "id": "4YKkYKGSDxMo",
        "colab_type": "code",
        "colab": {}
      },
      "source": [
        "# Resizinig all the images to (224,224)\n",
        "IMAGE_SIZE = [224,224]\n",
        "\n",
        "train_path = '/content/drive/My Drive/covid_update/Train'\n",
        "test_path = '/content/drive/My Drive/covid_update/Test'"
      ],
      "execution_count": null,
      "outputs": []
    },
    {
      "cell_type": "code",
      "metadata": {
        "id": "R-paNiynUiw4",
        "colab_type": "code",
        "colab": {}
      },
      "source": [
        ""
      ],
      "execution_count": null,
      "outputs": []
    },
    {
      "cell_type": "markdown",
      "metadata": {
        "id": "DmF38QJREi_r",
        "colab_type": "text"
      },
      "source": [
        "### In this we will be using the ResNet50 model"
      ]
    },
    {
      "cell_type": "markdown",
      "metadata": {
        "id": "eb2Q674YbYs6",
        "colab_type": "text"
      },
      "source": [
        "--------------------------------------------------------------------------------"
      ]
    },
    {
      "cell_type": "markdown",
      "metadata": {
        "id": "xK_XCtM6Yb8l",
        "colab_type": "text"
      },
      "source": [
        "* In `input_shape` argument `+ [3]` basically indicates that there are 3 channels i.e **RGB**.\n",
        "* The weights we will be using are default weights ie imagent weights.\n",
        "* The argument `include_top = False` means that in case of VGG16 we have **1000 categories** but in our case we have only **two categories**.\n",
        "* Because of that we dont have to use our 1st and the last layer.\n",
        "* If you would have had 1000 categories we would have passed `include_top = True`.\n",
        "* In the top most layer we need to provide our own layer our own dataset beacause of that we are using `include_top = False`."
      ]
    },
    {
      "cell_type": "code",
      "metadata": {
        "id": "nkrmV6nuEakj",
        "colab_type": "code",
        "colab": {}
      },
      "source": [
        "resnet = ResNet50(input_shape = IMAGE_SIZE + [3], weights='imagenet', include_top=False)"
      ],
      "execution_count": null,
      "outputs": []
    },
    {
      "cell_type": "markdown",
      "metadata": {
        "id": "5cWAO2Wdbdfd",
        "colab_type": "text"
      },
      "source": [
        "* Now we dont have to train the existing weights we just have to train our last layer."
      ]
    },
    {
      "cell_type": "code",
      "metadata": {
        "id": "APGbI46hYfA-",
        "colab_type": "code",
        "colab": {}
      },
      "source": [
        "for layer in resnet.layers:\n",
        "  layer.trainable = False"
      ],
      "execution_count": null,
      "outputs": []
    },
    {
      "cell_type": "markdown",
      "metadata": {
        "id": "W8jF1HD4bv04",
        "colab_type": "text"
      },
      "source": [
        "* By using the Glob function we will be able to know our output classes."
      ]
    },
    {
      "cell_type": "code",
      "metadata": {
        "id": "W5_Oja5Bbtqc",
        "colab_type": "code",
        "colab": {
          "base_uri": "https://localhost:8080/",
          "height": 52
        },
        "outputId": "0fa0f8bd-fc3f-4fb5-d380-e39336284b0d"
      },
      "source": [
        "folder = glob('/content/drive/My Drive/covid_update/*')\n",
        "folder"
      ],
      "execution_count": null,
      "outputs": [
        {
          "output_type": "execute_result",
          "data": {
            "text/plain": [
              "['/content/drive/My Drive/covid_update/Test',\n",
              " '/content/drive/My Drive/covid_update/Train']"
            ]
          },
          "metadata": {
            "tags": []
          },
          "execution_count": 37
        }
      ]
    },
    {
      "cell_type": "markdown",
      "metadata": {
        "id": "BTiZX-tQcGkH",
        "colab_type": "text"
      },
      "source": [
        "* We can clearly see that our dataset have two classes i.e. `covid`, `non-covid`."
      ]
    },
    {
      "cell_type": "markdown",
      "metadata": {
        "id": "HD4hesdtcV3B",
        "colab_type": "text"
      },
      "source": [
        "### Now the next we need to Flatten our VGG16 model.\n",
        "### What is Flattening of layer, why is it required?\n",
        "\n",
        "* From the above architecture we can clearly see that the after 7x7x512 we need to convert our 2D features to 1D features. Flatting is required when we have to convert our layer to a fully connected layer."
      ]
    },
    {
      "cell_type": "code",
      "metadata": {
        "id": "zlamUhNZcBsM",
        "colab_type": "code",
        "colab": {}
      },
      "source": [
        "x = Flatten()(resnet.output)"
      ],
      "execution_count": null,
      "outputs": []
    },
    {
      "cell_type": "markdown",
      "metadata": {
        "id": "YtDRIHD0ddxe",
        "colab_type": "text"
      },
      "source": [
        "* Adding our last layer"
      ]
    },
    {
      "cell_type": "code",
      "metadata": {
        "id": "V_X7VkVBdRXx",
        "colab_type": "code",
        "colab": {}
      },
      "source": [
        "prediction = Dense(len(folder), activation='softmax')(x)"
      ],
      "execution_count": null,
      "outputs": []
    },
    {
      "cell_type": "code",
      "metadata": {
        "id": "iUyklQiHdn8O",
        "colab_type": "code",
        "colab": {}
      },
      "source": [
        "model = Model(inputs = resnet.inputs, outputs = prediction)"
      ],
      "execution_count": null,
      "outputs": []
    },
    {
      "cell_type": "code",
      "metadata": {
        "id": "bNIw8c2BxDd-",
        "colab_type": "code",
        "colab": {
          "base_uri": "https://localhost:8080/",
          "height": 1000
        },
        "outputId": "751837eb-ebc1-4030-b44e-943eed4c70c0"
      },
      "source": [
        "model.summary()"
      ],
      "execution_count": null,
      "outputs": [
        {
          "output_type": "stream",
          "text": [
            "Model: \"functional_3\"\n",
            "__________________________________________________________________________________________________\n",
            "Layer (type)                    Output Shape         Param #     Connected to                     \n",
            "==================================================================================================\n",
            "input_2 (InputLayer)            [(None, 224, 224, 3) 0                                            \n",
            "__________________________________________________________________________________________________\n",
            "conv1_pad (ZeroPadding2D)       (None, 230, 230, 3)  0           input_2[0][0]                    \n",
            "__________________________________________________________________________________________________\n",
            "conv1_conv (Conv2D)             (None, 112, 112, 64) 9472        conv1_pad[0][0]                  \n",
            "__________________________________________________________________________________________________\n",
            "conv1_bn (BatchNormalization)   (None, 112, 112, 64) 256         conv1_conv[0][0]                 \n",
            "__________________________________________________________________________________________________\n",
            "conv1_relu (Activation)         (None, 112, 112, 64) 0           conv1_bn[0][0]                   \n",
            "__________________________________________________________________________________________________\n",
            "pool1_pad (ZeroPadding2D)       (None, 114, 114, 64) 0           conv1_relu[0][0]                 \n",
            "__________________________________________________________________________________________________\n",
            "pool1_pool (MaxPooling2D)       (None, 56, 56, 64)   0           pool1_pad[0][0]                  \n",
            "__________________________________________________________________________________________________\n",
            "conv2_block1_1_conv (Conv2D)    (None, 56, 56, 64)   4160        pool1_pool[0][0]                 \n",
            "__________________________________________________________________________________________________\n",
            "conv2_block1_1_bn (BatchNormali (None, 56, 56, 64)   256         conv2_block1_1_conv[0][0]        \n",
            "__________________________________________________________________________________________________\n",
            "conv2_block1_1_relu (Activation (None, 56, 56, 64)   0           conv2_block1_1_bn[0][0]          \n",
            "__________________________________________________________________________________________________\n",
            "conv2_block1_2_conv (Conv2D)    (None, 56, 56, 64)   36928       conv2_block1_1_relu[0][0]        \n",
            "__________________________________________________________________________________________________\n",
            "conv2_block1_2_bn (BatchNormali (None, 56, 56, 64)   256         conv2_block1_2_conv[0][0]        \n",
            "__________________________________________________________________________________________________\n",
            "conv2_block1_2_relu (Activation (None, 56, 56, 64)   0           conv2_block1_2_bn[0][0]          \n",
            "__________________________________________________________________________________________________\n",
            "conv2_block1_0_conv (Conv2D)    (None, 56, 56, 256)  16640       pool1_pool[0][0]                 \n",
            "__________________________________________________________________________________________________\n",
            "conv2_block1_3_conv (Conv2D)    (None, 56, 56, 256)  16640       conv2_block1_2_relu[0][0]        \n",
            "__________________________________________________________________________________________________\n",
            "conv2_block1_0_bn (BatchNormali (None, 56, 56, 256)  1024        conv2_block1_0_conv[0][0]        \n",
            "__________________________________________________________________________________________________\n",
            "conv2_block1_3_bn (BatchNormali (None, 56, 56, 256)  1024        conv2_block1_3_conv[0][0]        \n",
            "__________________________________________________________________________________________________\n",
            "conv2_block1_add (Add)          (None, 56, 56, 256)  0           conv2_block1_0_bn[0][0]          \n",
            "                                                                 conv2_block1_3_bn[0][0]          \n",
            "__________________________________________________________________________________________________\n",
            "conv2_block1_out (Activation)   (None, 56, 56, 256)  0           conv2_block1_add[0][0]           \n",
            "__________________________________________________________________________________________________\n",
            "conv2_block2_1_conv (Conv2D)    (None, 56, 56, 64)   16448       conv2_block1_out[0][0]           \n",
            "__________________________________________________________________________________________________\n",
            "conv2_block2_1_bn (BatchNormali (None, 56, 56, 64)   256         conv2_block2_1_conv[0][0]        \n",
            "__________________________________________________________________________________________________\n",
            "conv2_block2_1_relu (Activation (None, 56, 56, 64)   0           conv2_block2_1_bn[0][0]          \n",
            "__________________________________________________________________________________________________\n",
            "conv2_block2_2_conv (Conv2D)    (None, 56, 56, 64)   36928       conv2_block2_1_relu[0][0]        \n",
            "__________________________________________________________________________________________________\n",
            "conv2_block2_2_bn (BatchNormali (None, 56, 56, 64)   256         conv2_block2_2_conv[0][0]        \n",
            "__________________________________________________________________________________________________\n",
            "conv2_block2_2_relu (Activation (None, 56, 56, 64)   0           conv2_block2_2_bn[0][0]          \n",
            "__________________________________________________________________________________________________\n",
            "conv2_block2_3_conv (Conv2D)    (None, 56, 56, 256)  16640       conv2_block2_2_relu[0][0]        \n",
            "__________________________________________________________________________________________________\n",
            "conv2_block2_3_bn (BatchNormali (None, 56, 56, 256)  1024        conv2_block2_3_conv[0][0]        \n",
            "__________________________________________________________________________________________________\n",
            "conv2_block2_add (Add)          (None, 56, 56, 256)  0           conv2_block1_out[0][0]           \n",
            "                                                                 conv2_block2_3_bn[0][0]          \n",
            "__________________________________________________________________________________________________\n",
            "conv2_block2_out (Activation)   (None, 56, 56, 256)  0           conv2_block2_add[0][0]           \n",
            "__________________________________________________________________________________________________\n",
            "conv2_block3_1_conv (Conv2D)    (None, 56, 56, 64)   16448       conv2_block2_out[0][0]           \n",
            "__________________________________________________________________________________________________\n",
            "conv2_block3_1_bn (BatchNormali (None, 56, 56, 64)   256         conv2_block3_1_conv[0][0]        \n",
            "__________________________________________________________________________________________________\n",
            "conv2_block3_1_relu (Activation (None, 56, 56, 64)   0           conv2_block3_1_bn[0][0]          \n",
            "__________________________________________________________________________________________________\n",
            "conv2_block3_2_conv (Conv2D)    (None, 56, 56, 64)   36928       conv2_block3_1_relu[0][0]        \n",
            "__________________________________________________________________________________________________\n",
            "conv2_block3_2_bn (BatchNormali (None, 56, 56, 64)   256         conv2_block3_2_conv[0][0]        \n",
            "__________________________________________________________________________________________________\n",
            "conv2_block3_2_relu (Activation (None, 56, 56, 64)   0           conv2_block3_2_bn[0][0]          \n",
            "__________________________________________________________________________________________________\n",
            "conv2_block3_3_conv (Conv2D)    (None, 56, 56, 256)  16640       conv2_block3_2_relu[0][0]        \n",
            "__________________________________________________________________________________________________\n",
            "conv2_block3_3_bn (BatchNormali (None, 56, 56, 256)  1024        conv2_block3_3_conv[0][0]        \n",
            "__________________________________________________________________________________________________\n",
            "conv2_block3_add (Add)          (None, 56, 56, 256)  0           conv2_block2_out[0][0]           \n",
            "                                                                 conv2_block3_3_bn[0][0]          \n",
            "__________________________________________________________________________________________________\n",
            "conv2_block3_out (Activation)   (None, 56, 56, 256)  0           conv2_block3_add[0][0]           \n",
            "__________________________________________________________________________________________________\n",
            "conv3_block1_1_conv (Conv2D)    (None, 28, 28, 128)  32896       conv2_block3_out[0][0]           \n",
            "__________________________________________________________________________________________________\n",
            "conv3_block1_1_bn (BatchNormali (None, 28, 28, 128)  512         conv3_block1_1_conv[0][0]        \n",
            "__________________________________________________________________________________________________\n",
            "conv3_block1_1_relu (Activation (None, 28, 28, 128)  0           conv3_block1_1_bn[0][0]          \n",
            "__________________________________________________________________________________________________\n",
            "conv3_block1_2_conv (Conv2D)    (None, 28, 28, 128)  147584      conv3_block1_1_relu[0][0]        \n",
            "__________________________________________________________________________________________________\n",
            "conv3_block1_2_bn (BatchNormali (None, 28, 28, 128)  512         conv3_block1_2_conv[0][0]        \n",
            "__________________________________________________________________________________________________\n",
            "conv3_block1_2_relu (Activation (None, 28, 28, 128)  0           conv3_block1_2_bn[0][0]          \n",
            "__________________________________________________________________________________________________\n",
            "conv3_block1_0_conv (Conv2D)    (None, 28, 28, 512)  131584      conv2_block3_out[0][0]           \n",
            "__________________________________________________________________________________________________\n",
            "conv3_block1_3_conv (Conv2D)    (None, 28, 28, 512)  66048       conv3_block1_2_relu[0][0]        \n",
            "__________________________________________________________________________________________________\n",
            "conv3_block1_0_bn (BatchNormali (None, 28, 28, 512)  2048        conv3_block1_0_conv[0][0]        \n",
            "__________________________________________________________________________________________________\n",
            "conv3_block1_3_bn (BatchNormali (None, 28, 28, 512)  2048        conv3_block1_3_conv[0][0]        \n",
            "__________________________________________________________________________________________________\n",
            "conv3_block1_add (Add)          (None, 28, 28, 512)  0           conv3_block1_0_bn[0][0]          \n",
            "                                                                 conv3_block1_3_bn[0][0]          \n",
            "__________________________________________________________________________________________________\n",
            "conv3_block1_out (Activation)   (None, 28, 28, 512)  0           conv3_block1_add[0][0]           \n",
            "__________________________________________________________________________________________________\n",
            "conv3_block2_1_conv (Conv2D)    (None, 28, 28, 128)  65664       conv3_block1_out[0][0]           \n",
            "__________________________________________________________________________________________________\n",
            "conv3_block2_1_bn (BatchNormali (None, 28, 28, 128)  512         conv3_block2_1_conv[0][0]        \n",
            "__________________________________________________________________________________________________\n",
            "conv3_block2_1_relu (Activation (None, 28, 28, 128)  0           conv3_block2_1_bn[0][0]          \n",
            "__________________________________________________________________________________________________\n",
            "conv3_block2_2_conv (Conv2D)    (None, 28, 28, 128)  147584      conv3_block2_1_relu[0][0]        \n",
            "__________________________________________________________________________________________________\n",
            "conv3_block2_2_bn (BatchNormali (None, 28, 28, 128)  512         conv3_block2_2_conv[0][0]        \n",
            "__________________________________________________________________________________________________\n",
            "conv3_block2_2_relu (Activation (None, 28, 28, 128)  0           conv3_block2_2_bn[0][0]          \n",
            "__________________________________________________________________________________________________\n",
            "conv3_block2_3_conv (Conv2D)    (None, 28, 28, 512)  66048       conv3_block2_2_relu[0][0]        \n",
            "__________________________________________________________________________________________________\n",
            "conv3_block2_3_bn (BatchNormali (None, 28, 28, 512)  2048        conv3_block2_3_conv[0][0]        \n",
            "__________________________________________________________________________________________________\n",
            "conv3_block2_add (Add)          (None, 28, 28, 512)  0           conv3_block1_out[0][0]           \n",
            "                                                                 conv3_block2_3_bn[0][0]          \n",
            "__________________________________________________________________________________________________\n",
            "conv3_block2_out (Activation)   (None, 28, 28, 512)  0           conv3_block2_add[0][0]           \n",
            "__________________________________________________________________________________________________\n",
            "conv3_block3_1_conv (Conv2D)    (None, 28, 28, 128)  65664       conv3_block2_out[0][0]           \n",
            "__________________________________________________________________________________________________\n",
            "conv3_block3_1_bn (BatchNormali (None, 28, 28, 128)  512         conv3_block3_1_conv[0][0]        \n",
            "__________________________________________________________________________________________________\n",
            "conv3_block3_1_relu (Activation (None, 28, 28, 128)  0           conv3_block3_1_bn[0][0]          \n",
            "__________________________________________________________________________________________________\n",
            "conv3_block3_2_conv (Conv2D)    (None, 28, 28, 128)  147584      conv3_block3_1_relu[0][0]        \n",
            "__________________________________________________________________________________________________\n",
            "conv3_block3_2_bn (BatchNormali (None, 28, 28, 128)  512         conv3_block3_2_conv[0][0]        \n",
            "__________________________________________________________________________________________________\n",
            "conv3_block3_2_relu (Activation (None, 28, 28, 128)  0           conv3_block3_2_bn[0][0]          \n",
            "__________________________________________________________________________________________________\n",
            "conv3_block3_3_conv (Conv2D)    (None, 28, 28, 512)  66048       conv3_block3_2_relu[0][0]        \n",
            "__________________________________________________________________________________________________\n",
            "conv3_block3_3_bn (BatchNormali (None, 28, 28, 512)  2048        conv3_block3_3_conv[0][0]        \n",
            "__________________________________________________________________________________________________\n",
            "conv3_block3_add (Add)          (None, 28, 28, 512)  0           conv3_block2_out[0][0]           \n",
            "                                                                 conv3_block3_3_bn[0][0]          \n",
            "__________________________________________________________________________________________________\n",
            "conv3_block3_out (Activation)   (None, 28, 28, 512)  0           conv3_block3_add[0][0]           \n",
            "__________________________________________________________________________________________________\n",
            "conv3_block4_1_conv (Conv2D)    (None, 28, 28, 128)  65664       conv3_block3_out[0][0]           \n",
            "__________________________________________________________________________________________________\n",
            "conv3_block4_1_bn (BatchNormali (None, 28, 28, 128)  512         conv3_block4_1_conv[0][0]        \n",
            "__________________________________________________________________________________________________\n",
            "conv3_block4_1_relu (Activation (None, 28, 28, 128)  0           conv3_block4_1_bn[0][0]          \n",
            "__________________________________________________________________________________________________\n",
            "conv3_block4_2_conv (Conv2D)    (None, 28, 28, 128)  147584      conv3_block4_1_relu[0][0]        \n",
            "__________________________________________________________________________________________________\n",
            "conv3_block4_2_bn (BatchNormali (None, 28, 28, 128)  512         conv3_block4_2_conv[0][0]        \n",
            "__________________________________________________________________________________________________\n",
            "conv3_block4_2_relu (Activation (None, 28, 28, 128)  0           conv3_block4_2_bn[0][0]          \n",
            "__________________________________________________________________________________________________\n",
            "conv3_block4_3_conv (Conv2D)    (None, 28, 28, 512)  66048       conv3_block4_2_relu[0][0]        \n",
            "__________________________________________________________________________________________________\n",
            "conv3_block4_3_bn (BatchNormali (None, 28, 28, 512)  2048        conv3_block4_3_conv[0][0]        \n",
            "__________________________________________________________________________________________________\n",
            "conv3_block4_add (Add)          (None, 28, 28, 512)  0           conv3_block3_out[0][0]           \n",
            "                                                                 conv3_block4_3_bn[0][0]          \n",
            "__________________________________________________________________________________________________\n",
            "conv3_block4_out (Activation)   (None, 28, 28, 512)  0           conv3_block4_add[0][0]           \n",
            "__________________________________________________________________________________________________\n",
            "conv4_block1_1_conv (Conv2D)    (None, 14, 14, 256)  131328      conv3_block4_out[0][0]           \n",
            "__________________________________________________________________________________________________\n",
            "conv4_block1_1_bn (BatchNormali (None, 14, 14, 256)  1024        conv4_block1_1_conv[0][0]        \n",
            "__________________________________________________________________________________________________\n",
            "conv4_block1_1_relu (Activation (None, 14, 14, 256)  0           conv4_block1_1_bn[0][0]          \n",
            "__________________________________________________________________________________________________\n",
            "conv4_block1_2_conv (Conv2D)    (None, 14, 14, 256)  590080      conv4_block1_1_relu[0][0]        \n",
            "__________________________________________________________________________________________________\n",
            "conv4_block1_2_bn (BatchNormali (None, 14, 14, 256)  1024        conv4_block1_2_conv[0][0]        \n",
            "__________________________________________________________________________________________________\n",
            "conv4_block1_2_relu (Activation (None, 14, 14, 256)  0           conv4_block1_2_bn[0][0]          \n",
            "__________________________________________________________________________________________________\n",
            "conv4_block1_0_conv (Conv2D)    (None, 14, 14, 1024) 525312      conv3_block4_out[0][0]           \n",
            "__________________________________________________________________________________________________\n",
            "conv4_block1_3_conv (Conv2D)    (None, 14, 14, 1024) 263168      conv4_block1_2_relu[0][0]        \n",
            "__________________________________________________________________________________________________\n",
            "conv4_block1_0_bn (BatchNormali (None, 14, 14, 1024) 4096        conv4_block1_0_conv[0][0]        \n",
            "__________________________________________________________________________________________________\n",
            "conv4_block1_3_bn (BatchNormali (None, 14, 14, 1024) 4096        conv4_block1_3_conv[0][0]        \n",
            "__________________________________________________________________________________________________\n",
            "conv4_block1_add (Add)          (None, 14, 14, 1024) 0           conv4_block1_0_bn[0][0]          \n",
            "                                                                 conv4_block1_3_bn[0][0]          \n",
            "__________________________________________________________________________________________________\n",
            "conv4_block1_out (Activation)   (None, 14, 14, 1024) 0           conv4_block1_add[0][0]           \n",
            "__________________________________________________________________________________________________\n",
            "conv4_block2_1_conv (Conv2D)    (None, 14, 14, 256)  262400      conv4_block1_out[0][0]           \n",
            "__________________________________________________________________________________________________\n",
            "conv4_block2_1_bn (BatchNormali (None, 14, 14, 256)  1024        conv4_block2_1_conv[0][0]        \n",
            "__________________________________________________________________________________________________\n",
            "conv4_block2_1_relu (Activation (None, 14, 14, 256)  0           conv4_block2_1_bn[0][0]          \n",
            "__________________________________________________________________________________________________\n",
            "conv4_block2_2_conv (Conv2D)    (None, 14, 14, 256)  590080      conv4_block2_1_relu[0][0]        \n",
            "__________________________________________________________________________________________________\n",
            "conv4_block2_2_bn (BatchNormali (None, 14, 14, 256)  1024        conv4_block2_2_conv[0][0]        \n",
            "__________________________________________________________________________________________________\n",
            "conv4_block2_2_relu (Activation (None, 14, 14, 256)  0           conv4_block2_2_bn[0][0]          \n",
            "__________________________________________________________________________________________________\n",
            "conv4_block2_3_conv (Conv2D)    (None, 14, 14, 1024) 263168      conv4_block2_2_relu[0][0]        \n",
            "__________________________________________________________________________________________________\n",
            "conv4_block2_3_bn (BatchNormali (None, 14, 14, 1024) 4096        conv4_block2_3_conv[0][0]        \n",
            "__________________________________________________________________________________________________\n",
            "conv4_block2_add (Add)          (None, 14, 14, 1024) 0           conv4_block1_out[0][0]           \n",
            "                                                                 conv4_block2_3_bn[0][0]          \n",
            "__________________________________________________________________________________________________\n",
            "conv4_block2_out (Activation)   (None, 14, 14, 1024) 0           conv4_block2_add[0][0]           \n",
            "__________________________________________________________________________________________________\n",
            "conv4_block3_1_conv (Conv2D)    (None, 14, 14, 256)  262400      conv4_block2_out[0][0]           \n",
            "__________________________________________________________________________________________________\n",
            "conv4_block3_1_bn (BatchNormali (None, 14, 14, 256)  1024        conv4_block3_1_conv[0][0]        \n",
            "__________________________________________________________________________________________________\n",
            "conv4_block3_1_relu (Activation (None, 14, 14, 256)  0           conv4_block3_1_bn[0][0]          \n",
            "__________________________________________________________________________________________________\n",
            "conv4_block3_2_conv (Conv2D)    (None, 14, 14, 256)  590080      conv4_block3_1_relu[0][0]        \n",
            "__________________________________________________________________________________________________\n",
            "conv4_block3_2_bn (BatchNormali (None, 14, 14, 256)  1024        conv4_block3_2_conv[0][0]        \n",
            "__________________________________________________________________________________________________\n",
            "conv4_block3_2_relu (Activation (None, 14, 14, 256)  0           conv4_block3_2_bn[0][0]          \n",
            "__________________________________________________________________________________________________\n",
            "conv4_block3_3_conv (Conv2D)    (None, 14, 14, 1024) 263168      conv4_block3_2_relu[0][0]        \n",
            "__________________________________________________________________________________________________\n",
            "conv4_block3_3_bn (BatchNormali (None, 14, 14, 1024) 4096        conv4_block3_3_conv[0][0]        \n",
            "__________________________________________________________________________________________________\n",
            "conv4_block3_add (Add)          (None, 14, 14, 1024) 0           conv4_block2_out[0][0]           \n",
            "                                                                 conv4_block3_3_bn[0][0]          \n",
            "__________________________________________________________________________________________________\n",
            "conv4_block3_out (Activation)   (None, 14, 14, 1024) 0           conv4_block3_add[0][0]           \n",
            "__________________________________________________________________________________________________\n",
            "conv4_block4_1_conv (Conv2D)    (None, 14, 14, 256)  262400      conv4_block3_out[0][0]           \n",
            "__________________________________________________________________________________________________\n",
            "conv4_block4_1_bn (BatchNormali (None, 14, 14, 256)  1024        conv4_block4_1_conv[0][0]        \n",
            "__________________________________________________________________________________________________\n",
            "conv4_block4_1_relu (Activation (None, 14, 14, 256)  0           conv4_block4_1_bn[0][0]          \n",
            "__________________________________________________________________________________________________\n",
            "conv4_block4_2_conv (Conv2D)    (None, 14, 14, 256)  590080      conv4_block4_1_relu[0][0]        \n",
            "__________________________________________________________________________________________________\n",
            "conv4_block4_2_bn (BatchNormali (None, 14, 14, 256)  1024        conv4_block4_2_conv[0][0]        \n",
            "__________________________________________________________________________________________________\n",
            "conv4_block4_2_relu (Activation (None, 14, 14, 256)  0           conv4_block4_2_bn[0][0]          \n",
            "__________________________________________________________________________________________________\n",
            "conv4_block4_3_conv (Conv2D)    (None, 14, 14, 1024) 263168      conv4_block4_2_relu[0][0]        \n",
            "__________________________________________________________________________________________________\n",
            "conv4_block4_3_bn (BatchNormali (None, 14, 14, 1024) 4096        conv4_block4_3_conv[0][0]        \n",
            "__________________________________________________________________________________________________\n",
            "conv4_block4_add (Add)          (None, 14, 14, 1024) 0           conv4_block3_out[0][0]           \n",
            "                                                                 conv4_block4_3_bn[0][0]          \n",
            "__________________________________________________________________________________________________\n",
            "conv4_block4_out (Activation)   (None, 14, 14, 1024) 0           conv4_block4_add[0][0]           \n",
            "__________________________________________________________________________________________________\n",
            "conv4_block5_1_conv (Conv2D)    (None, 14, 14, 256)  262400      conv4_block4_out[0][0]           \n",
            "__________________________________________________________________________________________________\n",
            "conv4_block5_1_bn (BatchNormali (None, 14, 14, 256)  1024        conv4_block5_1_conv[0][0]        \n",
            "__________________________________________________________________________________________________\n",
            "conv4_block5_1_relu (Activation (None, 14, 14, 256)  0           conv4_block5_1_bn[0][0]          \n",
            "__________________________________________________________________________________________________\n",
            "conv4_block5_2_conv (Conv2D)    (None, 14, 14, 256)  590080      conv4_block5_1_relu[0][0]        \n",
            "__________________________________________________________________________________________________\n",
            "conv4_block5_2_bn (BatchNormali (None, 14, 14, 256)  1024        conv4_block5_2_conv[0][0]        \n",
            "__________________________________________________________________________________________________\n",
            "conv4_block5_2_relu (Activation (None, 14, 14, 256)  0           conv4_block5_2_bn[0][0]          \n",
            "__________________________________________________________________________________________________\n",
            "conv4_block5_3_conv (Conv2D)    (None, 14, 14, 1024) 263168      conv4_block5_2_relu[0][0]        \n",
            "__________________________________________________________________________________________________\n",
            "conv4_block5_3_bn (BatchNormali (None, 14, 14, 1024) 4096        conv4_block5_3_conv[0][0]        \n",
            "__________________________________________________________________________________________________\n",
            "conv4_block5_add (Add)          (None, 14, 14, 1024) 0           conv4_block4_out[0][0]           \n",
            "                                                                 conv4_block5_3_bn[0][0]          \n",
            "__________________________________________________________________________________________________\n",
            "conv4_block5_out (Activation)   (None, 14, 14, 1024) 0           conv4_block5_add[0][0]           \n",
            "__________________________________________________________________________________________________\n",
            "conv4_block6_1_conv (Conv2D)    (None, 14, 14, 256)  262400      conv4_block5_out[0][0]           \n",
            "__________________________________________________________________________________________________\n",
            "conv4_block6_1_bn (BatchNormali (None, 14, 14, 256)  1024        conv4_block6_1_conv[0][0]        \n",
            "__________________________________________________________________________________________________\n",
            "conv4_block6_1_relu (Activation (None, 14, 14, 256)  0           conv4_block6_1_bn[0][0]          \n",
            "__________________________________________________________________________________________________\n",
            "conv4_block6_2_conv (Conv2D)    (None, 14, 14, 256)  590080      conv4_block6_1_relu[0][0]        \n",
            "__________________________________________________________________________________________________\n",
            "conv4_block6_2_bn (BatchNormali (None, 14, 14, 256)  1024        conv4_block6_2_conv[0][0]        \n",
            "__________________________________________________________________________________________________\n",
            "conv4_block6_2_relu (Activation (None, 14, 14, 256)  0           conv4_block6_2_bn[0][0]          \n",
            "__________________________________________________________________________________________________\n",
            "conv4_block6_3_conv (Conv2D)    (None, 14, 14, 1024) 263168      conv4_block6_2_relu[0][0]        \n",
            "__________________________________________________________________________________________________\n",
            "conv4_block6_3_bn (BatchNormali (None, 14, 14, 1024) 4096        conv4_block6_3_conv[0][0]        \n",
            "__________________________________________________________________________________________________\n",
            "conv4_block6_add (Add)          (None, 14, 14, 1024) 0           conv4_block5_out[0][0]           \n",
            "                                                                 conv4_block6_3_bn[0][0]          \n",
            "__________________________________________________________________________________________________\n",
            "conv4_block6_out (Activation)   (None, 14, 14, 1024) 0           conv4_block6_add[0][0]           \n",
            "__________________________________________________________________________________________________\n",
            "conv5_block1_1_conv (Conv2D)    (None, 7, 7, 512)    524800      conv4_block6_out[0][0]           \n",
            "__________________________________________________________________________________________________\n",
            "conv5_block1_1_bn (BatchNormali (None, 7, 7, 512)    2048        conv5_block1_1_conv[0][0]        \n",
            "__________________________________________________________________________________________________\n",
            "conv5_block1_1_relu (Activation (None, 7, 7, 512)    0           conv5_block1_1_bn[0][0]          \n",
            "__________________________________________________________________________________________________\n",
            "conv5_block1_2_conv (Conv2D)    (None, 7, 7, 512)    2359808     conv5_block1_1_relu[0][0]        \n",
            "__________________________________________________________________________________________________\n",
            "conv5_block1_2_bn (BatchNormali (None, 7, 7, 512)    2048        conv5_block1_2_conv[0][0]        \n",
            "__________________________________________________________________________________________________\n",
            "conv5_block1_2_relu (Activation (None, 7, 7, 512)    0           conv5_block1_2_bn[0][0]          \n",
            "__________________________________________________________________________________________________\n",
            "conv5_block1_0_conv (Conv2D)    (None, 7, 7, 2048)   2099200     conv4_block6_out[0][0]           \n",
            "__________________________________________________________________________________________________\n",
            "conv5_block1_3_conv (Conv2D)    (None, 7, 7, 2048)   1050624     conv5_block1_2_relu[0][0]        \n",
            "__________________________________________________________________________________________________\n",
            "conv5_block1_0_bn (BatchNormali (None, 7, 7, 2048)   8192        conv5_block1_0_conv[0][0]        \n",
            "__________________________________________________________________________________________________\n",
            "conv5_block1_3_bn (BatchNormali (None, 7, 7, 2048)   8192        conv5_block1_3_conv[0][0]        \n",
            "__________________________________________________________________________________________________\n",
            "conv5_block1_add (Add)          (None, 7, 7, 2048)   0           conv5_block1_0_bn[0][0]          \n",
            "                                                                 conv5_block1_3_bn[0][0]          \n",
            "__________________________________________________________________________________________________\n",
            "conv5_block1_out (Activation)   (None, 7, 7, 2048)   0           conv5_block1_add[0][0]           \n",
            "__________________________________________________________________________________________________\n",
            "conv5_block2_1_conv (Conv2D)    (None, 7, 7, 512)    1049088     conv5_block1_out[0][0]           \n",
            "__________________________________________________________________________________________________\n",
            "conv5_block2_1_bn (BatchNormali (None, 7, 7, 512)    2048        conv5_block2_1_conv[0][0]        \n",
            "__________________________________________________________________________________________________\n",
            "conv5_block2_1_relu (Activation (None, 7, 7, 512)    0           conv5_block2_1_bn[0][0]          \n",
            "__________________________________________________________________________________________________\n",
            "conv5_block2_2_conv (Conv2D)    (None, 7, 7, 512)    2359808     conv5_block2_1_relu[0][0]        \n",
            "__________________________________________________________________________________________________\n",
            "conv5_block2_2_bn (BatchNormali (None, 7, 7, 512)    2048        conv5_block2_2_conv[0][0]        \n",
            "__________________________________________________________________________________________________\n",
            "conv5_block2_2_relu (Activation (None, 7, 7, 512)    0           conv5_block2_2_bn[0][0]          \n",
            "__________________________________________________________________________________________________\n",
            "conv5_block2_3_conv (Conv2D)    (None, 7, 7, 2048)   1050624     conv5_block2_2_relu[0][0]        \n",
            "__________________________________________________________________________________________________\n",
            "conv5_block2_3_bn (BatchNormali (None, 7, 7, 2048)   8192        conv5_block2_3_conv[0][0]        \n",
            "__________________________________________________________________________________________________\n",
            "conv5_block2_add (Add)          (None, 7, 7, 2048)   0           conv5_block1_out[0][0]           \n",
            "                                                                 conv5_block2_3_bn[0][0]          \n",
            "__________________________________________________________________________________________________\n",
            "conv5_block2_out (Activation)   (None, 7, 7, 2048)   0           conv5_block2_add[0][0]           \n",
            "__________________________________________________________________________________________________\n",
            "conv5_block3_1_conv (Conv2D)    (None, 7, 7, 512)    1049088     conv5_block2_out[0][0]           \n",
            "__________________________________________________________________________________________________\n",
            "conv5_block3_1_bn (BatchNormali (None, 7, 7, 512)    2048        conv5_block3_1_conv[0][0]        \n",
            "__________________________________________________________________________________________________\n",
            "conv5_block3_1_relu (Activation (None, 7, 7, 512)    0           conv5_block3_1_bn[0][0]          \n",
            "__________________________________________________________________________________________________\n",
            "conv5_block3_2_conv (Conv2D)    (None, 7, 7, 512)    2359808     conv5_block3_1_relu[0][0]        \n",
            "__________________________________________________________________________________________________\n",
            "conv5_block3_2_bn (BatchNormali (None, 7, 7, 512)    2048        conv5_block3_2_conv[0][0]        \n",
            "__________________________________________________________________________________________________\n",
            "conv5_block3_2_relu (Activation (None, 7, 7, 512)    0           conv5_block3_2_bn[0][0]          \n",
            "__________________________________________________________________________________________________\n",
            "conv5_block3_3_conv (Conv2D)    (None, 7, 7, 2048)   1050624     conv5_block3_2_relu[0][0]        \n",
            "__________________________________________________________________________________________________\n",
            "conv5_block3_3_bn (BatchNormali (None, 7, 7, 2048)   8192        conv5_block3_3_conv[0][0]        \n",
            "__________________________________________________________________________________________________\n",
            "conv5_block3_add (Add)          (None, 7, 7, 2048)   0           conv5_block2_out[0][0]           \n",
            "                                                                 conv5_block3_3_bn[0][0]          \n",
            "__________________________________________________________________________________________________\n",
            "conv5_block3_out (Activation)   (None, 7, 7, 2048)   0           conv5_block3_add[0][0]           \n",
            "__________________________________________________________________________________________________\n",
            "flatten_1 (Flatten)             (None, 100352)       0           conv5_block3_out[0][0]           \n",
            "__________________________________________________________________________________________________\n",
            "dense_1 (Dense)                 (None, 2)            200706      flatten_1[0][0]                  \n",
            "==================================================================================================\n",
            "Total params: 23,788,418\n",
            "Trainable params: 200,706\n",
            "Non-trainable params: 23,587,712\n",
            "__________________________________________________________________________________________________\n"
          ],
          "name": "stdout"
        }
      ]
    },
    {
      "cell_type": "markdown",
      "metadata": {
        "id": "AgelhTt7xJ2E",
        "colab_type": "text"
      },
      "source": [
        "* From the above summary we can see that we have added our first input layer and the last layer with 2 nodes."
      ]
    },
    {
      "cell_type": "markdown",
      "metadata": {
        "id": "t9ikc50_xd1x",
        "colab_type": "text"
      },
      "source": [
        "### Compiling our model"
      ]
    },
    {
      "cell_type": "code",
      "metadata": {
        "id": "YXKP86kVxHcW",
        "colab_type": "code",
        "colab": {}
      },
      "source": [
        "model.compile(loss = 'categorical_crossentropy', optimizer='adam', metrics=['accuracy'])"
      ],
      "execution_count": null,
      "outputs": []
    },
    {
      "cell_type": "markdown",
      "metadata": {
        "id": "9_UEXRmg4bqc",
        "colab_type": "text"
      },
      "source": [
        "* Now we need to read all the images from the folder.\n",
        "* When we'll be reading the data from the folders we also need to make sure that we need to do some **Data Augmentation**.\n",
        "* The Data Augmentation can be done by using **ImageDataGenerator** library.\n",
        "* The **ImageDataGenerator** what is does that it applies the Data Augmentation techniques like zooming, scaling, horizontal flipping, vertical flipping, etc.\n",
        "* **IN THE TEST DATA WE SHOULD NEVER PERFORM DATA AUGMENTATION WE SHOULD ONLY PERFORM SCALING**"
      ]
    },
    {
      "cell_type": "code",
      "metadata": {
        "id": "op_qOfuextmv",
        "colab_type": "code",
        "colab": {}
      },
      "source": [
        "# Scaling all the images between 0 to 1\n",
        "\n",
        "train_datagen = ImageDataGenerator(rescale = 1./255, shear_range=0.2, zoom_range=0.2, horizontal_flip=False)\n",
        "\n",
        "# Performing only scaling on the test dataset\n",
        "\n",
        "test_datagen = ImageDataGenerator(rescale=1./255)"
      ],
      "execution_count": null,
      "outputs": []
    },
    {
      "cell_type": "code",
      "metadata": {
        "id": "J21GeOhE6M5L",
        "colab_type": "code",
        "colab": {
          "base_uri": "https://localhost:8080/",
          "height": 34
        },
        "outputId": "cc356adf-7bec-4b6e-fa0d-43a559700495"
      },
      "source": [
        "# flow_from_directory means i am applying all the train_datagen techniques to all the images\n",
        "# We need to provide the same traget_size as initialized in the IMAGE_SIZE\n",
        "# If you have more than two classes we should use class_mode = categorical\n",
        "# But if we have just two classses we can use class_mode = binary\n",
        "\n",
        "train_set = train_datagen.flow_from_directory('/content/drive/My Drive/covid_update/Train',\n",
        "                                              target_size=(224,224),\n",
        "                                              batch_size=32,\n",
        "                                              class_mode = 'categorical')"
      ],
      "execution_count": null,
      "outputs": [
        {
          "output_type": "stream",
          "text": [
            "Found 453 images belonging to 2 classes.\n"
          ],
          "name": "stdout"
        }
      ]
    },
    {
      "cell_type": "code",
      "metadata": {
        "id": "1LQIQREy6s14",
        "colab_type": "code",
        "colab": {
          "base_uri": "https://localhost:8080/",
          "height": 34
        },
        "outputId": "824ef587-78ba-48c2-a23d-6a6e504545d7"
      },
      "source": [
        "# Applying the same techniques on the test dataset\n",
        "\n",
        "test_set = test_datagen.flow_from_directory('/content/drive/My Drive/covid_update/Test',\n",
        "                                            target_size=(224,224),\n",
        "                                            batch_size=32,\n",
        "                                            class_mode='categorical')"
      ],
      "execution_count": null,
      "outputs": [
        {
          "output_type": "stream",
          "text": [
            "Found 219 images belonging to 2 classes.\n"
          ],
          "name": "stdout"
        }
      ]
    },
    {
      "cell_type": "markdown",
      "metadata": {
        "id": "I8Ti_3m_7Dtq",
        "colab_type": "text"
      },
      "source": [
        "## Fitting our model"
      ]
    },
    {
      "cell_type": "code",
      "metadata": {
        "id": "5tnxffEB7ANk",
        "colab_type": "code",
        "colab": {
          "base_uri": "https://localhost:8080/",
          "height": 1000
        },
        "outputId": "42f16bc2-f76d-4bec-9868-50aae3a11245"
      },
      "source": [
        "r = model.fit_generator(train_set, validation_data=test_set, epochs=50, steps_per_epoch=len(train_set), validation_steps=len(test_set))"
      ],
      "execution_count": null,
      "outputs": [
        {
          "output_type": "stream",
          "text": [
            "Epoch 1/50\n",
            "15/15 [==============================] - 17s 1s/step - loss: 1.6771 - accuracy: 0.5541 - val_loss: 1.0443 - val_accuracy: 0.5388\n",
            "Epoch 2/50\n",
            "15/15 [==============================] - 15s 992ms/step - loss: 0.4902 - accuracy: 0.7483 - val_loss: 0.4745 - val_accuracy: 0.7671\n",
            "Epoch 3/50\n",
            "15/15 [==============================] - 15s 999ms/step - loss: 0.4217 - accuracy: 0.8168 - val_loss: 0.6560 - val_accuracy: 0.7169\n",
            "Epoch 4/50\n",
            "15/15 [==============================] - 15s 988ms/step - loss: 0.3569 - accuracy: 0.8521 - val_loss: 0.4174 - val_accuracy: 0.8082\n",
            "Epoch 5/50\n",
            "15/15 [==============================] - 15s 983ms/step - loss: 0.3474 - accuracy: 0.8521 - val_loss: 0.5122 - val_accuracy: 0.7489\n",
            "Epoch 6/50\n",
            "15/15 [==============================] - 16s 1s/step - loss: 0.3552 - accuracy: 0.8322 - val_loss: 0.3997 - val_accuracy: 0.8265\n",
            "Epoch 7/50\n",
            "15/15 [==============================] - 15s 1s/step - loss: 0.2227 - accuracy: 0.9073 - val_loss: 0.3953 - val_accuracy: 0.8128\n",
            "Epoch 8/50\n",
            "15/15 [==============================] - 15s 1s/step - loss: 0.2134 - accuracy: 0.9205 - val_loss: 0.4115 - val_accuracy: 0.8037\n",
            "Epoch 9/50\n",
            "15/15 [==============================] - 15s 1s/step - loss: 0.2376 - accuracy: 0.9051 - val_loss: 0.4967 - val_accuracy: 0.7900\n",
            "Epoch 10/50\n",
            "15/15 [==============================] - 15s 1s/step - loss: 0.1933 - accuracy: 0.9272 - val_loss: 0.5680 - val_accuracy: 0.7626\n",
            "Epoch 11/50\n",
            "15/15 [==============================] - 15s 991ms/step - loss: 0.3601 - accuracy: 0.8609 - val_loss: 0.8753 - val_accuracy: 0.6484\n",
            "Epoch 12/50\n",
            "15/15 [==============================] - 15s 1s/step - loss: 0.3233 - accuracy: 0.8918 - val_loss: 0.4069 - val_accuracy: 0.8311\n",
            "Epoch 13/50\n",
            "15/15 [==============================] - 15s 1s/step - loss: 0.1597 - accuracy: 0.9514 - val_loss: 0.4010 - val_accuracy: 0.8219\n",
            "Epoch 14/50\n",
            "15/15 [==============================] - 16s 1s/step - loss: 0.3013 - accuracy: 0.8698 - val_loss: 0.6059 - val_accuracy: 0.7671\n",
            "Epoch 15/50\n",
            "15/15 [==============================] - 15s 991ms/step - loss: 0.2474 - accuracy: 0.8940 - val_loss: 0.3977 - val_accuracy: 0.8311\n",
            "Epoch 16/50\n",
            "15/15 [==============================] - 15s 999ms/step - loss: 0.1984 - accuracy: 0.9117 - val_loss: 0.4054 - val_accuracy: 0.8219\n",
            "Epoch 17/50\n",
            "15/15 [==============================] - 15s 1s/step - loss: 0.1623 - accuracy: 0.9492 - val_loss: 0.4428 - val_accuracy: 0.8174\n",
            "Epoch 18/50\n",
            "15/15 [==============================] - 16s 1s/step - loss: 0.1274 - accuracy: 0.9647 - val_loss: 0.3886 - val_accuracy: 0.8356\n",
            "Epoch 19/50\n",
            "15/15 [==============================] - 16s 1s/step - loss: 0.1414 - accuracy: 0.9492 - val_loss: 0.3791 - val_accuracy: 0.8402\n",
            "Epoch 20/50\n",
            "15/15 [==============================] - 15s 1s/step - loss: 0.1563 - accuracy: 0.9338 - val_loss: 0.3815 - val_accuracy: 0.8402\n",
            "Epoch 21/50\n",
            "15/15 [==============================] - 15s 991ms/step - loss: 0.1660 - accuracy: 0.9338 - val_loss: 0.4556 - val_accuracy: 0.8265\n",
            "Epoch 22/50\n",
            "15/15 [==============================] - 15s 996ms/step - loss: 0.1527 - accuracy: 0.9360 - val_loss: 0.3808 - val_accuracy: 0.8447\n",
            "Epoch 23/50\n",
            "15/15 [==============================] - 15s 990ms/step - loss: 0.1335 - accuracy: 0.9536 - val_loss: 0.3835 - val_accuracy: 0.8356\n",
            "Epoch 24/50\n",
            "15/15 [==============================] - 15s 982ms/step - loss: 0.1088 - accuracy: 0.9603 - val_loss: 0.3810 - val_accuracy: 0.8219\n",
            "Epoch 25/50\n",
            "15/15 [==============================] - 15s 1s/step - loss: 0.2663 - accuracy: 0.9051 - val_loss: 0.5389 - val_accuracy: 0.7900\n",
            "Epoch 26/50\n",
            "15/15 [==============================] - 15s 978ms/step - loss: 0.3909 - accuracy: 0.8234 - val_loss: 0.8274 - val_accuracy: 0.7397\n",
            "Epoch 27/50\n",
            "15/15 [==============================] - 15s 1s/step - loss: 0.2175 - accuracy: 0.9183 - val_loss: 0.4848 - val_accuracy: 0.8082\n",
            "Epoch 28/50\n",
            "15/15 [==============================] - 15s 1s/step - loss: 0.1472 - accuracy: 0.9492 - val_loss: 0.4711 - val_accuracy: 0.8356\n",
            "Epoch 29/50\n",
            "15/15 [==============================] - 15s 989ms/step - loss: 0.2465 - accuracy: 0.9073 - val_loss: 0.4277 - val_accuracy: 0.8219\n",
            "Epoch 30/50\n",
            "15/15 [==============================] - 15s 1s/step - loss: 0.1837 - accuracy: 0.9227 - val_loss: 0.3988 - val_accuracy: 0.8447\n",
            "Epoch 31/50\n",
            "15/15 [==============================] - 15s 998ms/step - loss: 0.1550 - accuracy: 0.9338 - val_loss: 0.3973 - val_accuracy: 0.8584\n",
            "Epoch 32/50\n",
            "15/15 [==============================] - 15s 1s/step - loss: 0.0811 - accuracy: 0.9779 - val_loss: 0.4502 - val_accuracy: 0.8402\n",
            "Epoch 33/50\n",
            "15/15 [==============================] - 16s 1s/step - loss: 0.1169 - accuracy: 0.9514 - val_loss: 0.4242 - val_accuracy: 0.8174\n",
            "Epoch 34/50\n",
            "15/15 [==============================] - 15s 985ms/step - loss: 0.1291 - accuracy: 0.9536 - val_loss: 0.5931 - val_accuracy: 0.7900\n",
            "Epoch 35/50\n",
            "15/15 [==============================] - 15s 984ms/step - loss: 0.2130 - accuracy: 0.9095 - val_loss: 0.4541 - val_accuracy: 0.8265\n",
            "Epoch 36/50\n",
            "15/15 [==============================] - 15s 984ms/step - loss: 0.2637 - accuracy: 0.8985 - val_loss: 0.5477 - val_accuracy: 0.8082\n",
            "Epoch 37/50\n",
            "15/15 [==============================] - 15s 1s/step - loss: 0.1555 - accuracy: 0.9514 - val_loss: 0.4423 - val_accuracy: 0.8265\n",
            "Epoch 38/50\n",
            "15/15 [==============================] - 15s 984ms/step - loss: 0.1064 - accuracy: 0.9647 - val_loss: 0.4281 - val_accuracy: 0.8402\n",
            "Epoch 39/50\n",
            "15/15 [==============================] - 15s 994ms/step - loss: 0.3569 - accuracy: 0.8675 - val_loss: 0.7984 - val_accuracy: 0.7671\n",
            "Epoch 40/50\n",
            "15/15 [==============================] - 15s 984ms/step - loss: 0.2150 - accuracy: 0.9117 - val_loss: 0.4722 - val_accuracy: 0.8447\n",
            "Epoch 41/50\n",
            "15/15 [==============================] - 15s 993ms/step - loss: 0.1184 - accuracy: 0.9558 - val_loss: 0.4369 - val_accuracy: 0.8356\n",
            "Epoch 42/50\n",
            "15/15 [==============================] - 15s 998ms/step - loss: 0.1441 - accuracy: 0.9448 - val_loss: 0.6317 - val_accuracy: 0.7945\n",
            "Epoch 43/50\n",
            "15/15 [==============================] - 16s 1s/step - loss: 0.3470 - accuracy: 0.8609 - val_loss: 0.6626 - val_accuracy: 0.7945\n",
            "Epoch 44/50\n",
            "15/15 [==============================] - 15s 1s/step - loss: 0.3433 - accuracy: 0.8720 - val_loss: 0.4182 - val_accuracy: 0.8630\n",
            "Epoch 45/50\n",
            "15/15 [==============================] - 15s 1000ms/step - loss: 0.1380 - accuracy: 0.9492 - val_loss: 0.4498 - val_accuracy: 0.8447\n",
            "Epoch 46/50\n",
            "15/15 [==============================] - 15s 1s/step - loss: 0.1044 - accuracy: 0.9713 - val_loss: 0.4169 - val_accuracy: 0.8539\n",
            "Epoch 47/50\n",
            "15/15 [==============================] - 15s 1s/step - loss: 0.0975 - accuracy: 0.9625 - val_loss: 0.4752 - val_accuracy: 0.8356\n",
            "Epoch 48/50\n",
            "15/15 [==============================] - 15s 1s/step - loss: 0.0938 - accuracy: 0.9581 - val_loss: 0.4122 - val_accuracy: 0.8539\n",
            "Epoch 49/50\n",
            "15/15 [==============================] - 15s 1000ms/step - loss: 0.0975 - accuracy: 0.9603 - val_loss: 0.7268 - val_accuracy: 0.7854\n",
            "Epoch 50/50\n",
            "15/15 [==============================] - 15s 1s/step - loss: 0.0882 - accuracy: 0.9713 - val_loss: 0.6966 - val_accuracy: 0.7808\n"
          ],
          "name": "stdout"
        }
      ]
    },
    {
      "cell_type": "markdown",
      "metadata": {
        "id": "NnYRI5ibxSEI",
        "colab_type": "text"
      },
      "source": [
        "* If your accuracy=100% and your validation accuracy < 50% that means your model is overfitting. \n",
        "* validation loss if for the test data"
      ]
    },
    {
      "cell_type": "markdown",
      "metadata": {
        "id": "GUJdrMhTxY19",
        "colab_type": "text"
      },
      "source": [
        "### Plotting the losses and Accuracy on the dataset"
      ]
    },
    {
      "cell_type": "code",
      "metadata": {
        "id": "-QnvQu7Wwu8-",
        "colab_type": "code",
        "colab": {
          "base_uri": "https://localhost:8080/",
          "height": 461
        },
        "outputId": "99ce3e16-aed7-4124-d5b9-39c062f55373"
      },
      "source": [
        "plt.figure(figsize=(10,7))\n",
        "plt.plot(r.history['loss'], label='train loss')\n",
        "plt.plot(r.history['val_loss'], label='val loss')\n",
        "plt.plot(r.history['accuracy'], label='train_acc')\n",
        "plt.plot(r.history['val_accuracy'], label='val_acc')\n",
        "plt.title(\"Training Loss and Accuracy on COVID-19 Dataset\")\n",
        "plt.legend()\n",
        "plt.show()\n",
        "plt.savefig('lossval_loss')"
      ],
      "execution_count": null,
      "outputs": [
        {
          "output_type": "display_data",
          "data": {
            "image/png": "[encoded data removed]",
            "text/plain": [
              "<Figure size 720x504 with 1 Axes>"
            ]
          },
          "metadata": {
            "tags": [],
            "needs_background": "light"
          }
        },
        {
          "output_type": "display_data",
          "data": {
            "text/plain": [
              "<Figure size 432x288 with 0 Axes>"
            ]
          },
          "metadata": {
            "tags": []
          }
        }
      ]
    },
    {
      "cell_type": "markdown",
      "metadata": {
        "id": "qWpdtoVazgvT",
        "colab_type": "text"
      },
      "source": [
        "### Saving the h5 file"
      ]
    },
    {
      "cell_type": "code",
      "metadata": {
        "id": "KFAU2rtaxDNE",
        "colab_type": "code",
        "colab": {}
      },
      "source": [
        "from tensorflow.keras.models import load_model\n",
        "\n",
        "model.save('covid_chest_xray_model.h5')"
      ],
      "execution_count": null,
      "outputs": []
    },
    {
      "cell_type": "markdown",
      "metadata": {
        "id": "7oYMb5nmz2X6",
        "colab_type": "text"
      },
      "source": [
        "### Predicting our model"
      ]
    },
    {
      "cell_type": "code",
      "metadata": {
        "id": "oxijUQZqz0ea",
        "colab_type": "code",
        "colab": {
          "base_uri": "https://localhost:8080/",
          "height": 1000
        },
        "outputId": "be4958f5-e9ab-49ad-f5a3-9e605b2ebf86"
      },
      "source": [
        "pred = model.predict(test_set)\n",
        "pred"
      ],
      "execution_count": null,
      "outputs": [
        {
          "output_type": "execute_result",
          "data": {
            "text/plain": [
              "array([[9.8186100e-01, 1.8138947e-02],\n",
              "       [4.9350843e-01, 5.0649154e-01],\n",
              "       [9.9980921e-01, 1.9081734e-04],\n",
              "       [9.0678841e-01, 9.3211547e-02],\n",
              "       [9.9957937e-01, 4.2067567e-04],\n",
              "       [8.2530469e-01, 1.7469537e-01],\n",
              "       [9.9219358e-01, 7.8063579e-03],\n",
              "       [9.9999738e-01, 2.6129997e-06],\n",
              "       [9.9798310e-01, 2.0169117e-03],\n",
              "       [9.9984121e-01, 1.5875818e-04],\n",
              "       [9.9347723e-01, 6.5227593e-03],\n",
              "       [4.1683774e-02, 9.5831627e-01],\n",
              "       [9.9933392e-01, 6.6601892e-04],\n",
              "       [9.9979669e-01, 2.0332613e-04],\n",
              "       [9.9961334e-01, 3.8665955e-04],\n",
              "       [9.9973267e-01, 2.6732398e-04],\n",
              "       [1.7077634e-03, 9.9829227e-01],\n",
              "       [9.9996781e-01, 3.2225973e-05],\n",
              "       [9.9997807e-01, 2.1952925e-05],\n",
              "       [3.5612693e-01, 6.4387310e-01],\n",
              "       [5.3639442e-01, 4.6360561e-01],\n",
              "       [8.4792520e-04, 9.9915206e-01],\n",
              "       [9.9989259e-01, 1.0736020e-04],\n",
              "       [9.7626865e-01, 2.3731312e-02],\n",
              "       [8.7633830e-01, 1.2366174e-01],\n",
              "       [5.6975299e-05, 9.9994302e-01],\n",
              "       [2.3843788e-05, 9.9997616e-01],\n",
              "       [2.1946788e-01, 7.8053212e-01],\n",
              "       [1.6681565e-01, 8.3318430e-01],\n",
              "       [9.9993563e-01, 6.4353349e-05],\n",
              "       [1.5231446e-02, 9.8476851e-01],\n",
              "       [9.8800963e-01, 1.1990346e-02],\n",
              "       [9.9994624e-01, 5.3714142e-05],\n",
              "       [9.4644189e-01, 5.3558063e-02],\n",
              "       [9.9998844e-01, 1.1505202e-05],\n",
              "       [6.8358507e-04, 9.9931645e-01],\n",
              "       [9.2472118e-01, 7.5278893e-02],\n",
              "       [9.9595970e-01, 4.0403474e-03],\n",
              "       [9.9981767e-01, 1.8230383e-04],\n",
              "       [2.2451538e-01, 7.7548462e-01],\n",
              "       [1.7993510e-02, 9.8200649e-01],\n",
              "       [6.0000366e-01, 3.9999634e-01],\n",
              "       [9.7437370e-01, 2.5626311e-02],\n",
              "       [9.9970764e-01, 2.9229879e-04],\n",
              "       [2.2464658e-01, 7.7535337e-01],\n",
              "       [4.1269749e-02, 9.5873028e-01],\n",
              "       [9.9967301e-01, 3.2705005e-04],\n",
              "       [8.6766529e-01, 1.3233471e-01],\n",
              "       [9.9776113e-01, 2.2388424e-03],\n",
              "       [7.2263938e-01, 2.7736062e-01],\n",
              "       [5.8306610e-05, 9.9994171e-01],\n",
              "       [9.9987340e-01, 1.2659452e-04],\n",
              "       [9.7580171e-01, 2.4198268e-02],\n",
              "       [8.9954054e-01, 1.0045939e-01],\n",
              "       [3.6836872e-01, 6.3163131e-01],\n",
              "       [2.7117159e-02, 9.7288281e-01],\n",
              "       [5.5208459e-04, 9.9944788e-01],\n",
              "       [9.2252678e-01, 7.7473260e-02],\n",
              "       [9.9628890e-01, 3.7111121e-03],\n",
              "       [4.3179803e-02, 9.5682019e-01],\n",
              "       [9.9999130e-01, 8.7303779e-06],\n",
              "       [9.9984503e-01, 1.5493257e-04],\n",
              "       [9.9791569e-01, 2.0843062e-03],\n",
              "       [9.9991643e-01, 8.3592837e-05],\n",
              "       [2.7925530e-03, 9.9720746e-01],\n",
              "       [6.6540962e-01, 3.3459041e-01],\n",
              "       [5.3537041e-01, 4.6462953e-01],\n",
              "       [5.8827452e-02, 9.4117254e-01],\n",
              "       [9.8739737e-01, 1.2602631e-02],\n",
              "       [7.7407867e-01, 2.2592130e-01],\n",
              "       [9.9281198e-01, 7.1880138e-03],\n",
              "       [9.7700989e-01, 2.2990150e-02],\n",
              "       [9.9914777e-01, 8.5217680e-04],\n",
              "       [5.9163794e-02, 9.4083613e-01],\n",
              "       [9.9995112e-01, 4.8920912e-05],\n",
              "       [8.9226669e-01, 1.0773329e-01],\n",
              "       [9.9366379e-01, 6.3362517e-03],\n",
              "       [4.2975762e-01, 5.7024235e-01],\n",
              "       [3.3961946e-06, 9.9999666e-01],\n",
              "       [9.9568826e-01, 4.3117101e-03],\n",
              "       [7.4694037e-01, 2.5305960e-01],\n",
              "       [3.7588865e-02, 9.6241111e-01],\n",
              "       [9.9935776e-01, 6.4227375e-04],\n",
              "       [8.8814944e-01, 1.1185059e-01],\n",
              "       [9.9996293e-01, 3.7022310e-05],\n",
              "       [1.1152721e-01, 8.8847274e-01],\n",
              "       [9.8603672e-01, 1.3963218e-02],\n",
              "       [9.9973720e-01, 2.6280171e-04],\n",
              "       [5.1123850e-02, 9.4887614e-01],\n",
              "       [9.9174494e-01, 8.2550170e-03],\n",
              "       [9.6574426e-01, 3.4255750e-02],\n",
              "       [9.9646533e-01, 3.5346111e-03],\n",
              "       [3.1818449e-04, 9.9968183e-01],\n",
              "       [9.1913158e-01, 8.0868363e-02],\n",
              "       [9.9696630e-01, 3.0336701e-03],\n",
              "       [7.4519548e-03, 9.9254805e-01],\n",
              "       [9.8711801e-01, 1.2881998e-02],\n",
              "       [9.6943283e-01, 3.0567124e-02],\n",
              "       [4.6470191e-08, 1.0000000e+00],\n",
              "       [8.3505601e-02, 9.1649437e-01],\n",
              "       [9.9961108e-01, 3.8893515e-04],\n",
              "       [1.6719343e-04, 9.9983275e-01],\n",
              "       [1.7354839e-01, 8.2645160e-01],\n",
              "       [7.8910552e-02, 9.2108947e-01],\n",
              "       [9.9982578e-01, 1.7419501e-04],\n",
              "       [3.9473355e-02, 9.6052670e-01],\n",
              "       [1.3778737e-01, 8.6221260e-01],\n",
              "       [9.9994445e-01, 5.5547272e-05],\n",
              "       [9.7652346e-01, 2.3476571e-02],\n",
              "       [3.1917500e-01, 6.8082500e-01],\n",
              "       [4.0189899e-04, 9.9959809e-01],\n",
              "       [5.5891951e-04, 9.9944109e-01],\n",
              "       [4.7959670e-01, 5.2040327e-01],\n",
              "       [6.2156367e-01, 3.7843630e-01],\n",
              "       [9.9978119e-01, 2.1887681e-04],\n",
              "       [9.6644276e-01, 3.3557285e-02],\n",
              "       [9.9871385e-01, 1.2861761e-03],\n",
              "       [8.4799421e-01, 1.5200575e-01],\n",
              "       [9.9985647e-01, 1.4345410e-04],\n",
              "       [5.1246826e-03, 9.9487537e-01],\n",
              "       [1.3402467e-04, 9.9986601e-01],\n",
              "       [9.9922800e-01, 7.7202823e-04],\n",
              "       [9.9246043e-01, 7.5395657e-03],\n",
              "       [9.9999297e-01, 7.0092638e-06],\n",
              "       [8.6086162e-04, 9.9913907e-01],\n",
              "       [9.8511291e-01, 1.4887086e-02],\n",
              "       [9.9657106e-01, 3.4289847e-03],\n",
              "       [3.5350362e-03, 9.9646497e-01],\n",
              "       [1.4612824e-01, 8.5387176e-01],\n",
              "       [9.9098867e-01, 9.0113208e-03],\n",
              "       [9.9746847e-01, 2.5315520e-03],\n",
              "       [9.9996960e-01, 3.0359681e-05],\n",
              "       [1.0701107e-06, 9.9999893e-01],\n",
              "       [5.8557577e-02, 9.4144243e-01],\n",
              "       [9.9768448e-01, 2.3154586e-03],\n",
              "       [7.6514799e-03, 9.9234855e-01],\n",
              "       [5.3613730e-02, 9.4638628e-01],\n",
              "       [9.9968207e-01, 3.1800047e-04],\n",
              "       [4.6467969e-01, 5.3532028e-01],\n",
              "       [9.9808514e-01, 1.9149064e-03],\n",
              "       [9.9984610e-01, 1.5391599e-04],\n",
              "       [9.9986541e-01, 1.3461294e-04],\n",
              "       [1.7297332e-05, 9.9998271e-01],\n",
              "       [7.0000894e-04, 9.9930000e-01],\n",
              "       [1.8081054e-04, 9.9981922e-01],\n",
              "       [9.1254961e-01, 8.7450378e-02],\n",
              "       [1.9250190e-01, 8.0749804e-01],\n",
              "       [9.8047733e-01, 1.9522646e-02],\n",
              "       [1.2353055e-05, 9.9998760e-01],\n",
              "       [1.3799318e-04, 9.9986196e-01],\n",
              "       [8.8498038e-01, 1.1501960e-01],\n",
              "       [9.0683430e-01, 9.3165673e-02],\n",
              "       [7.3358876e-01, 2.6641122e-01],\n",
              "       [9.4510198e-01, 5.4898024e-02],\n",
              "       [9.9862051e-01, 1.3794972e-03],\n",
              "       [9.9997628e-01, 2.3750112e-05],\n",
              "       [5.1547050e-01, 4.8452947e-01],\n",
              "       [9.9999046e-01, 9.5488513e-06],\n",
              "       [2.9997734e-04, 9.9970007e-01],\n",
              "       [9.9350959e-01, 6.4903353e-03],\n",
              "       [1.3447775e-02, 9.8655218e-01],\n",
              "       [9.9944502e-01, 5.5501476e-04],\n",
              "       [2.9200867e-03, 9.9707991e-01],\n",
              "       [4.7392156e-03, 9.9526078e-01],\n",
              "       [8.5835218e-01, 1.4164782e-01],\n",
              "       [3.1709779e-02, 9.6829021e-01],\n",
              "       [9.9559242e-01, 4.4075577e-03],\n",
              "       [6.1170466e-02, 9.3882954e-01],\n",
              "       [6.3682759e-01, 3.6317244e-01],\n",
              "       [9.9993563e-01, 6.4399945e-05],\n",
              "       [1.4680682e-02, 9.8531938e-01],\n",
              "       [9.9749595e-01, 2.5040193e-03],\n",
              "       [9.9967492e-01, 3.2505504e-04],\n",
              "       [9.9289966e-01, 7.1003838e-03],\n",
              "       [9.7644502e-01, 2.3554916e-02],\n",
              "       [7.7923469e-02, 9.2207652e-01],\n",
              "       [9.3733811e-01, 6.2661849e-02],\n",
              "       [9.9950039e-01, 4.9965386e-04],\n",
              "       [9.9941349e-01, 5.8654533e-04],\n",
              "       [9.6787316e-01, 3.2126822e-02],\n",
              "       [2.8010723e-03, 9.9719894e-01],\n",
              "       [1.8433174e-01, 8.1566823e-01],\n",
              "       [9.9450833e-01, 5.4917117e-03],\n",
              "       [6.8375703e-05, 9.9993157e-01],\n",
              "       [7.5517962e-04, 9.9924481e-01],\n",
              "       [4.5568349e-06, 9.9999547e-01],\n",
              "       [1.1242876e-02, 9.8875719e-01],\n",
              "       [9.9145508e-01, 8.5449321e-03],\n",
              "       [9.0315245e-04, 9.9909687e-01],\n",
              "       [4.5037363e-03, 9.9549627e-01],\n",
              "       [1.4686017e-01, 8.5313982e-01],\n",
              "       [5.7015383e-01, 4.2984614e-01],\n",
              "       [9.9968922e-01, 3.1078645e-04],\n",
              "       [9.7760856e-01, 2.2391452e-02],\n",
              "       [9.9947923e-01, 5.2080641e-04],\n",
              "       [3.0459759e-01, 6.9540244e-01],\n",
              "       [9.8303741e-01, 1.6962569e-02],\n",
              "       [9.9987900e-01, 1.2093471e-04],\n",
              "       [9.7848678e-01, 2.1513281e-02],\n",
              "       [8.9618665e-01, 1.0381340e-01],\n",
              "       [9.9922645e-01, 7.7354856e-04],\n",
              "       [9.7740787e-01, 2.2592090e-02],\n",
              "       [1.7272992e-01, 8.2727009e-01],\n",
              "       [9.9922550e-01, 7.7450043e-04],\n",
              "       [8.8886696e-01, 1.1113303e-01],\n",
              "       [9.9993694e-01, 6.3088562e-05],\n",
              "       [9.9755740e-01, 2.4425781e-03],\n",
              "       [9.8997784e-01, 1.0022163e-02],\n",
              "       [9.5889080e-01, 4.1109212e-02],\n",
              "       [9.9986541e-01, 1.3455914e-04],\n",
              "       [7.7388436e-01, 2.2611566e-01],\n",
              "       [5.6982762e-01, 4.3017238e-01],\n",
              "       [9.9991786e-01, 8.2183164e-05],\n",
              "       [9.8433775e-01, 1.5662268e-02],\n",
              "       [9.9979991e-01, 2.0016514e-04],\n",
              "       [9.9963021e-01, 3.6974944e-04],\n",
              "       [3.2618359e-01, 6.7381644e-01],\n",
              "       [4.6013076e-05, 9.9995399e-01],\n",
              "       [2.1484423e-01, 7.8515577e-01]], dtype=float32)"
            ]
          },
          "metadata": {
            "tags": []
          },
          "execution_count": 49
        }
      ]
    },
    {
      "cell_type": "code",
      "metadata": {
        "id": "N6corFflz-iQ",
        "colab_type": "code",
        "colab": {
          "base_uri": "https://localhost:8080/",
          "height": 191
        },
        "outputId": "4f9a1f81-f013-4152-a5c4-77338e5945e5"
      },
      "source": [
        "import numpy as np\n",
        "\n",
        "pred = np.argmax(pred, axis=1)\n",
        "pred"
      ],
      "execution_count": null,
      "outputs": [
        {
          "output_type": "execute_result",
          "data": {
            "text/plain": [
              "array([0, 1, 0, 0, 0, 0, 0, 0, 0, 0, 0, 1, 0, 0, 0, 0, 1, 0, 0, 1, 0, 1,\n",
              "       0, 0, 0, 1, 1, 1, 1, 0, 1, 0, 0, 0, 0, 1, 0, 0, 0, 1, 1, 0, 0, 0,\n",
              "       1, 1, 0, 0, 0, 0, 1, 0, 0, 0, 1, 1, 1, 0, 0, 1, 0, 0, 0, 0, 1, 0,\n",
              "       0, 1, 0, 0, 0, 0, 0, 1, 0, 0, 0, 1, 1, 0, 0, 1, 0, 0, 0, 1, 0, 0,\n",
              "       1, 0, 0, 0, 1, 0, 0, 1, 0, 0, 1, 1, 0, 1, 1, 1, 0, 1, 1, 0, 0, 1,\n",
              "       1, 1, 1, 0, 0, 0, 0, 0, 0, 1, 1, 0, 0, 0, 1, 0, 0, 1, 1, 0, 0, 0,\n",
              "       1, 1, 0, 1, 1, 0, 1, 0, 0, 0, 1, 1, 1, 0, 1, 0, 1, 1, 0, 0, 0, 0,\n",
              "       0, 0, 0, 0, 1, 0, 1, 0, 1, 1, 0, 1, 0, 1, 0, 0, 1, 0, 0, 0, 0, 1,\n",
              "       0, 0, 0, 0, 1, 1, 0, 1, 1, 1, 1, 0, 1, 1, 1, 0, 0, 0, 0, 1, 0, 0,\n",
              "       0, 0, 0, 0, 1, 0, 0, 0, 0, 0, 0, 0, 0, 0, 0, 0, 0, 0, 1, 1, 1])"
            ]
          },
          "metadata": {
            "tags": []
          },
          "execution_count": 50
        }
      ]
    },
    {
      "cell_type": "markdown",
      "metadata": {
        "id": "58n1zaO80Nes",
        "colab_type": "text"
      },
      "source": [
        "### Loading our model"
      ]
    },
    {
      "cell_type": "code",
      "metadata": {
        "id": "gDRKUCO_0J4p",
        "colab_type": "code",
        "colab": {}
      },
      "source": [
        "model = load_model('covid_chest_xray_model.h5')"
      ],
      "execution_count": null,
      "outputs": []
    },
    {
      "cell_type": "code",
      "metadata": {
        "id": "6dPeb1hX0WHh",
        "colab_type": "code",
        "colab": {}
      },
      "source": [
        "from tensorflow.keras.preprocessing import image"
      ],
      "execution_count": null,
      "outputs": []
    },
    {
      "cell_type": "code",
      "metadata": {
        "id": "Db1YMaH20czV",
        "colab_type": "code",
        "colab": {}
      },
      "source": [
        "img = image.load_img('/content/drive/My Drive/covid_update/Test/covid/1-s2.0-S0929664620300449-gr2_lrg-d.jpg', target_size=(224,224))"
      ],
      "execution_count": null,
      "outputs": []
    },
    {
      "cell_type": "code",
      "metadata": {
        "id": "gXpoCw2H0qWn",
        "colab_type": "code",
        "colab": {
          "base_uri": "https://localhost:8080/",
          "height": 868
        },
        "outputId": "660518fe-7240-47b7-cc71-842929b63ae0"
      },
      "source": [
        "x = image.img_to_array(img)\n",
        "x"
      ],
      "execution_count": null,
      "outputs": [
        {
          "output_type": "execute_result",
          "data": {
            "text/plain": [
              "array([[[12., 12., 12.],\n",
              "        [ 0.,  0.,  0.],\n",
              "        [ 0.,  0.,  0.],\n",
              "        ...,\n",
              "        [14., 14., 14.],\n",
              "        [14., 14., 14.],\n",
              "        [12., 12., 12.]],\n",
              "\n",
              "       [[10., 10., 10.],\n",
              "        [ 0.,  0.,  0.],\n",
              "        [ 0.,  0.,  0.],\n",
              "        ...,\n",
              "        [15., 15., 15.],\n",
              "        [14., 14., 14.],\n",
              "        [15., 15., 15.]],\n",
              "\n",
              "       [[12., 12., 12.],\n",
              "        [ 0.,  0.,  0.],\n",
              "        [ 0.,  0.,  0.],\n",
              "        ...,\n",
              "        [15., 15., 15.],\n",
              "        [15., 15., 15.],\n",
              "        [15., 15., 15.]],\n",
              "\n",
              "       ...,\n",
              "\n",
              "       [[ 1.,  1.,  1.],\n",
              "        [ 1.,  1.,  1.],\n",
              "        [20., 20., 20.],\n",
              "        ...,\n",
              "        [11., 11., 11.],\n",
              "        [11., 11., 11.],\n",
              "        [11., 11., 11.]],\n",
              "\n",
              "       [[ 1.,  1.,  1.],\n",
              "        [ 5.,  5.,  5.],\n",
              "        [20., 20., 20.],\n",
              "        ...,\n",
              "        [11., 11., 11.],\n",
              "        [11., 11., 11.],\n",
              "        [11., 11., 11.]],\n",
              "\n",
              "       [[ 1.,  1.,  1.],\n",
              "        [ 8.,  8.,  8.],\n",
              "        [18., 18., 18.],\n",
              "        ...,\n",
              "        [11., 11., 11.],\n",
              "        [11., 11., 11.],\n",
              "        [11., 11., 11.]]], dtype=float32)"
            ]
          },
          "metadata": {
            "tags": []
          },
          "execution_count": 54
        }
      ]
    },
    {
      "cell_type": "code",
      "metadata": {
        "id": "0LaOB3Sp0yLZ",
        "colab_type": "code",
        "colab": {
          "base_uri": "https://localhost:8080/",
          "height": 34
        },
        "outputId": "6a50c885-0d51-41a1-cf5b-9648642c7191"
      },
      "source": [
        "x.shape"
      ],
      "execution_count": null,
      "outputs": [
        {
          "output_type": "execute_result",
          "data": {
            "text/plain": [
              "(224, 224, 3)"
            ]
          },
          "metadata": {
            "tags": []
          },
          "execution_count": 55
        }
      ]
    },
    {
      "cell_type": "code",
      "metadata": {
        "id": "H3JvbdfI00MX",
        "colab_type": "code",
        "colab": {}
      },
      "source": [
        "x = x/255"
      ],
      "execution_count": null,
      "outputs": []
    },
    {
      "cell_type": "code",
      "metadata": {
        "id": "MF4M6MGl02sL",
        "colab_type": "code",
        "colab": {
          "base_uri": "https://localhost:8080/",
          "height": 34
        },
        "outputId": "4d43d6b7-2b72-48ef-829c-c76c9cc38e0e"
      },
      "source": [
        "from tensorflow.keras.applications.resnet50 import preprocess_input\n",
        "\n",
        "x=np.expand_dims(x,axis=0)\n",
        "img_data=preprocess_input(x)\n",
        "img_data.shape"
      ],
      "execution_count": null,
      "outputs": [
        {
          "output_type": "execute_result",
          "data": {
            "text/plain": [
              "(1, 224, 224, 3)"
            ]
          },
          "metadata": {
            "tags": []
          },
          "execution_count": 57
        }
      ]
    },
    {
      "cell_type": "code",
      "metadata": {
        "id": "pY9Onekw1WAk",
        "colab_type": "code",
        "colab": {
          "base_uri": "https://localhost:8080/",
          "height": 34
        },
        "outputId": "2850ec64-dfa9-424d-eeeb-189826650167"
      },
      "source": [
        "model.predict(img_data)\n"
      ],
      "execution_count": null,
      "outputs": [
        {
          "output_type": "execute_result",
          "data": {
            "text/plain": [
              "array([[1.0000000e+00, 1.3076319e-25]], dtype=float32)"
            ]
          },
          "metadata": {
            "tags": []
          },
          "execution_count": 58
        }
      ]
    },
    {
      "cell_type": "code",
      "metadata": {
        "id": "WfFge7lk5BH4",
        "colab_type": "code",
        "colab": {}
      },
      "source": [
        "a=np.argmax(model.predict(img_data), axis=1)"
      ],
      "execution_count": null,
      "outputs": []
    },
    {
      "cell_type": "code",
      "metadata": {
        "id": "QaY8m8115EkQ",
        "colab_type": "code",
        "colab": {
          "base_uri": "https://localhost:8080/",
          "height": 34
        },
        "outputId": "6fca79fa-1145-44ad-ce79-33393e868061"
      },
      "source": [
        "if(a==1):\n",
        "    print(\"The person does not have COVID-19\")\n",
        "else:\n",
        "    print(\"The person has COVID-19\")"
      ],
      "execution_count": null,
      "outputs": [
        {
          "output_type": "stream",
          "text": [
            "The person has COVID-19\n"
          ],
          "name": "stdout"
        }
      ]
    },
    {
      "cell_type": "code",
      "metadata": {
        "id": "RrxLS4OU5NdO",
        "colab_type": "code",
        "colab": {}
      },
      "source": [
        ""
      ],
      "execution_count": null,
      "outputs": []
    }
  ]
}